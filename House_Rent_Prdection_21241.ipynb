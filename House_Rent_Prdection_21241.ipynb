{
  "cells": [
    {
      "cell_type": "markdown",
      "metadata": {
        "id": "view-in-github",
        "colab_type": "text"
      },
      "source": [
        "<a href=\"https://colab.research.google.com/github/SRIHARITHUNGA/machine-learning/blob/main/House_Rent_Prdection_21241.ipynb\" target=\"_parent\"><img src=\"https://colab.research.google.com/assets/colab-badge.svg\" alt=\"Open In Colab\"/></a>"
      ]
    },
    {
      "cell_type": "markdown",
      "source": [
        "#House_Rent_Prediction\n",
        "###Thunga Srihari(21241)"
      ],
      "metadata": {
        "id": "K54O0wssHORj"
      }
    },
    {
      "cell_type": "markdown",
      "metadata": {
        "id": "hFo9uncmDuCF"
      },
      "source": [
        "##This model is built for predicting the price of the house based on some importent features."
      ]
    },
    {
      "cell_type": "markdown",
      "metadata": {
        "id": "ioyYKjFcEJl4"
      },
      "source": [
        "#Importing Libreries"
      ]
    },
    {
      "cell_type": "code",
      "execution_count": null,
      "metadata": {
        "id": "oRznYAyJDpqi"
      },
      "outputs": [],
      "source": [
        "import pandas as pd\n",
        "import numpy as np\n",
        "import matplotlib.pyplot as plt\n",
        "import seaborn as sns\n",
        "plt.style.use(\"seaborn-deep\")"
      ]
    },
    {
      "cell_type": "markdown",
      "metadata": {
        "id": "A1yErUu7EyjY"
      },
      "source": [
        "#Loading Dataset"
      ]
    },
    {
      "cell_type": "code",
      "execution_count": null,
      "metadata": {
        "id": "QZlNq5-SEkH4",
        "colab": {
          "base_uri": "https://localhost:8080/",
          "height": 206
        },
        "outputId": "b3a811ac-fbd3-48ce-ba79-7ccbdc484d19"
      },
      "outputs": [
        {
          "output_type": "execute_result",
          "data": {
            "text/plain": [
              "    Posted On  BHK   Rent  Size            Floor    Area Type  \\\n",
              "0  2022-05-18    2  10000  1100  Ground out of 2   Super Area   \n",
              "1  2022-05-13    2  20000   800       1 out of 3   Super Area   \n",
              "2  2022-05-16    2  17000  1000       1 out of 3   Super Area   \n",
              "3  2022-07-04    2  10000   800       1 out of 2   Super Area   \n",
              "4  2022-05-09    2   7500   850       1 out of 2  Carpet Area   \n",
              "\n",
              "              Area Locality     City Furnishing Status  Tenant Preferred  \\\n",
              "0                    Bandel  Kolkata       Unfurnished  Bachelors/Family   \n",
              "1  Phool Bagan, Kankurgachi  Kolkata    Semi-Furnished  Bachelors/Family   \n",
              "2   Salt Lake City Sector 2  Kolkata    Semi-Furnished  Bachelors/Family   \n",
              "3               Dumdum Park  Kolkata       Unfurnished  Bachelors/Family   \n",
              "4             South Dum Dum  Kolkata       Unfurnished         Bachelors   \n",
              "\n",
              "   Bathroom Point of Contact  \n",
              "0         2    Contact Owner  \n",
              "1         1    Contact Owner  \n",
              "2         1    Contact Owner  \n",
              "3         1    Contact Owner  \n",
              "4         1    Contact Owner  "
            ],
            "text/html": [
              "\n",
              "  <div id=\"df-4f5ad4a1-0f5d-49ed-8048-77e0f0a01b83\">\n",
              "    <div class=\"colab-df-container\">\n",
              "      <div>\n",
              "<style scoped>\n",
              "    .dataframe tbody tr th:only-of-type {\n",
              "        vertical-align: middle;\n",
              "    }\n",
              "\n",
              "    .dataframe tbody tr th {\n",
              "        vertical-align: top;\n",
              "    }\n",
              "\n",
              "    .dataframe thead th {\n",
              "        text-align: right;\n",
              "    }\n",
              "</style>\n",
              "<table border=\"1\" class=\"dataframe\">\n",
              "  <thead>\n",
              "    <tr style=\"text-align: right;\">\n",
              "      <th></th>\n",
              "      <th>Posted On</th>\n",
              "      <th>BHK</th>\n",
              "      <th>Rent</th>\n",
              "      <th>Size</th>\n",
              "      <th>Floor</th>\n",
              "      <th>Area Type</th>\n",
              "      <th>Area Locality</th>\n",
              "      <th>City</th>\n",
              "      <th>Furnishing Status</th>\n",
              "      <th>Tenant Preferred</th>\n",
              "      <th>Bathroom</th>\n",
              "      <th>Point of Contact</th>\n",
              "    </tr>\n",
              "  </thead>\n",
              "  <tbody>\n",
              "    <tr>\n",
              "      <th>0</th>\n",
              "      <td>2022-05-18</td>\n",
              "      <td>2</td>\n",
              "      <td>10000</td>\n",
              "      <td>1100</td>\n",
              "      <td>Ground out of 2</td>\n",
              "      <td>Super Area</td>\n",
              "      <td>Bandel</td>\n",
              "      <td>Kolkata</td>\n",
              "      <td>Unfurnished</td>\n",
              "      <td>Bachelors/Family</td>\n",
              "      <td>2</td>\n",
              "      <td>Contact Owner</td>\n",
              "    </tr>\n",
              "    <tr>\n",
              "      <th>1</th>\n",
              "      <td>2022-05-13</td>\n",
              "      <td>2</td>\n",
              "      <td>20000</td>\n",
              "      <td>800</td>\n",
              "      <td>1 out of 3</td>\n",
              "      <td>Super Area</td>\n",
              "      <td>Phool Bagan, Kankurgachi</td>\n",
              "      <td>Kolkata</td>\n",
              "      <td>Semi-Furnished</td>\n",
              "      <td>Bachelors/Family</td>\n",
              "      <td>1</td>\n",
              "      <td>Contact Owner</td>\n",
              "    </tr>\n",
              "    <tr>\n",
              "      <th>2</th>\n",
              "      <td>2022-05-16</td>\n",
              "      <td>2</td>\n",
              "      <td>17000</td>\n",
              "      <td>1000</td>\n",
              "      <td>1 out of 3</td>\n",
              "      <td>Super Area</td>\n",
              "      <td>Salt Lake City Sector 2</td>\n",
              "      <td>Kolkata</td>\n",
              "      <td>Semi-Furnished</td>\n",
              "      <td>Bachelors/Family</td>\n",
              "      <td>1</td>\n",
              "      <td>Contact Owner</td>\n",
              "    </tr>\n",
              "    <tr>\n",
              "      <th>3</th>\n",
              "      <td>2022-07-04</td>\n",
              "      <td>2</td>\n",
              "      <td>10000</td>\n",
              "      <td>800</td>\n",
              "      <td>1 out of 2</td>\n",
              "      <td>Super Area</td>\n",
              "      <td>Dumdum Park</td>\n",
              "      <td>Kolkata</td>\n",
              "      <td>Unfurnished</td>\n",
              "      <td>Bachelors/Family</td>\n",
              "      <td>1</td>\n",
              "      <td>Contact Owner</td>\n",
              "    </tr>\n",
              "    <tr>\n",
              "      <th>4</th>\n",
              "      <td>2022-05-09</td>\n",
              "      <td>2</td>\n",
              "      <td>7500</td>\n",
              "      <td>850</td>\n",
              "      <td>1 out of 2</td>\n",
              "      <td>Carpet Area</td>\n",
              "      <td>South Dum Dum</td>\n",
              "      <td>Kolkata</td>\n",
              "      <td>Unfurnished</td>\n",
              "      <td>Bachelors</td>\n",
              "      <td>1</td>\n",
              "      <td>Contact Owner</td>\n",
              "    </tr>\n",
              "  </tbody>\n",
              "</table>\n",
              "</div>\n",
              "      <button class=\"colab-df-convert\" onclick=\"convertToInteractive('df-4f5ad4a1-0f5d-49ed-8048-77e0f0a01b83')\"\n",
              "              title=\"Convert this dataframe to an interactive table.\"\n",
              "              style=\"display:none;\">\n",
              "        \n",
              "  <svg xmlns=\"http://www.w3.org/2000/svg\" height=\"24px\"viewBox=\"0 0 24 24\"\n",
              "       width=\"24px\">\n",
              "    <path d=\"M0 0h24v24H0V0z\" fill=\"none\"/>\n",
              "    <path d=\"M18.56 5.44l.94 2.06.94-2.06 2.06-.94-2.06-.94-.94-2.06-.94 2.06-2.06.94zm-11 1L8.5 8.5l.94-2.06 2.06-.94-2.06-.94L8.5 2.5l-.94 2.06-2.06.94zm10 10l.94 2.06.94-2.06 2.06-.94-2.06-.94-.94-2.06-.94 2.06-2.06.94z\"/><path d=\"M17.41 7.96l-1.37-1.37c-.4-.4-.92-.59-1.43-.59-.52 0-1.04.2-1.43.59L10.3 9.45l-7.72 7.72c-.78.78-.78 2.05 0 2.83L4 21.41c.39.39.9.59 1.41.59.51 0 1.02-.2 1.41-.59l7.78-7.78 2.81-2.81c.8-.78.8-2.07 0-2.86zM5.41 20L4 18.59l7.72-7.72 1.47 1.35L5.41 20z\"/>\n",
              "  </svg>\n",
              "      </button>\n",
              "      \n",
              "  <style>\n",
              "    .colab-df-container {\n",
              "      display:flex;\n",
              "      flex-wrap:wrap;\n",
              "      gap: 12px;\n",
              "    }\n",
              "\n",
              "    .colab-df-convert {\n",
              "      background-color: #E8F0FE;\n",
              "      border: none;\n",
              "      border-radius: 50%;\n",
              "      cursor: pointer;\n",
              "      display: none;\n",
              "      fill: #1967D2;\n",
              "      height: 32px;\n",
              "      padding: 0 0 0 0;\n",
              "      width: 32px;\n",
              "    }\n",
              "\n",
              "    .colab-df-convert:hover {\n",
              "      background-color: #E2EBFA;\n",
              "      box-shadow: 0px 1px 2px rgba(60, 64, 67, 0.3), 0px 1px 3px 1px rgba(60, 64, 67, 0.15);\n",
              "      fill: #174EA6;\n",
              "    }\n",
              "\n",
              "    [theme=dark] .colab-df-convert {\n",
              "      background-color: #3B4455;\n",
              "      fill: #D2E3FC;\n",
              "    }\n",
              "\n",
              "    [theme=dark] .colab-df-convert:hover {\n",
              "      background-color: #434B5C;\n",
              "      box-shadow: 0px 1px 3px 1px rgba(0, 0, 0, 0.15);\n",
              "      filter: drop-shadow(0px 1px 2px rgba(0, 0, 0, 0.3));\n",
              "      fill: #FFFFFF;\n",
              "    }\n",
              "  </style>\n",
              "\n",
              "      <script>\n",
              "        const buttonEl =\n",
              "          document.querySelector('#df-4f5ad4a1-0f5d-49ed-8048-77e0f0a01b83 button.colab-df-convert');\n",
              "        buttonEl.style.display =\n",
              "          google.colab.kernel.accessAllowed ? 'block' : 'none';\n",
              "\n",
              "        async function convertToInteractive(key) {\n",
              "          const element = document.querySelector('#df-4f5ad4a1-0f5d-49ed-8048-77e0f0a01b83');\n",
              "          const dataTable =\n",
              "            await google.colab.kernel.invokeFunction('convertToInteractive',\n",
              "                                                     [key], {});\n",
              "          if (!dataTable) return;\n",
              "\n",
              "          const docLinkHtml = 'Like what you see? Visit the ' +\n",
              "            '<a target=\"_blank\" href=https://colab.research.google.com/notebooks/data_table.ipynb>data table notebook</a>'\n",
              "            + ' to learn more about interactive tables.';\n",
              "          element.innerHTML = '';\n",
              "          dataTable['output_type'] = 'display_data';\n",
              "          await google.colab.output.renderOutput(dataTable, element);\n",
              "          const docLink = document.createElement('div');\n",
              "          docLink.innerHTML = docLinkHtml;\n",
              "          element.appendChild(docLink);\n",
              "        }\n",
              "      </script>\n",
              "    </div>\n",
              "  </div>\n",
              "  "
            ]
          },
          "metadata": {},
          "execution_count": 138
        }
      ],
      "source": [
        "df = pd.read_csv(\"/content/House_Rent_Dataset.csv\")\n",
        "df_dum= pd.read_csv(\"/content/House_Rent_Dataset.csv\")\n",
        "df.head()"
      ]
    },
    {
      "cell_type": "markdown",
      "metadata": {
        "id": "uzY6iOz2FYXv"
      },
      "source": [
        "#The Shape of the Dataset"
      ]
    },
    {
      "cell_type": "code",
      "execution_count": null,
      "metadata": {
        "id": "5GJcswcbFMQw",
        "colab": {
          "base_uri": "https://localhost:8080/"
        },
        "outputId": "8eedbd8e-fa21-472c-c590-fd0fdd4ef695"
      },
      "outputs": [
        {
          "output_type": "execute_result",
          "data": {
            "text/plain": [
              "(4746, 12)"
            ]
          },
          "metadata": {},
          "execution_count": 139
        }
      ],
      "source": [
        "df.shape"
      ]
    },
    {
      "cell_type": "markdown",
      "metadata": {
        "id": "VnsVYlWoFdfw"
      },
      "source": [
        "#Info about the Features in the Dataset"
      ]
    },
    {
      "cell_type": "code",
      "execution_count": null,
      "metadata": {
        "id": "xYwuqLu4FRoA",
        "colab": {
          "base_uri": "https://localhost:8080/"
        },
        "outputId": "69083b3a-5451-4403-bc0e-de8a1c090a6c"
      },
      "outputs": [
        {
          "output_type": "stream",
          "name": "stdout",
          "text": [
            "<class 'pandas.core.frame.DataFrame'>\n",
            "RangeIndex: 4746 entries, 0 to 4745\n",
            "Data columns (total 12 columns):\n",
            " #   Column             Non-Null Count  Dtype \n",
            "---  ------             --------------  ----- \n",
            " 0   Posted On          4746 non-null   object\n",
            " 1   BHK                4746 non-null   int64 \n",
            " 2   Rent               4746 non-null   int64 \n",
            " 3   Size               4746 non-null   int64 \n",
            " 4   Floor              4746 non-null   object\n",
            " 5   Area Type          4746 non-null   object\n",
            " 6   Area Locality      4746 non-null   object\n",
            " 7   City               4746 non-null   object\n",
            " 8   Furnishing Status  4746 non-null   object\n",
            " 9   Tenant Preferred   4746 non-null   object\n",
            " 10  Bathroom           4746 non-null   int64 \n",
            " 11  Point of Contact   4746 non-null   object\n",
            "dtypes: int64(4), object(8)\n",
            "memory usage: 445.1+ KB\n"
          ]
        }
      ],
      "source": [
        "df.info()"
      ]
    },
    {
      "cell_type": "markdown",
      "metadata": {
        "id": "6vUSFVsxGuyX"
      },
      "source": [
        "#Checking the null values"
      ]
    },
    {
      "cell_type": "code",
      "execution_count": null,
      "metadata": {
        "id": "zZixOgbJFVkv",
        "colab": {
          "base_uri": "https://localhost:8080/",
          "height": 424
        },
        "outputId": "6fa20e4b-6806-4f2a-f3bb-0d889193d9d4"
      },
      "outputs": [
        {
          "output_type": "execute_result",
          "data": {
            "text/plain": [
              "      Posted On    BHK   Rent   Size  Floor  Area Type  Area Locality   City  \\\n",
              "0         False  False  False  False  False      False          False  False   \n",
              "1         False  False  False  False  False      False          False  False   \n",
              "2         False  False  False  False  False      False          False  False   \n",
              "3         False  False  False  False  False      False          False  False   \n",
              "4         False  False  False  False  False      False          False  False   \n",
              "...         ...    ...    ...    ...    ...        ...            ...    ...   \n",
              "4741      False  False  False  False  False      False          False  False   \n",
              "4742      False  False  False  False  False      False          False  False   \n",
              "4743      False  False  False  False  False      False          False  False   \n",
              "4744      False  False  False  False  False      False          False  False   \n",
              "4745      False  False  False  False  False      False          False  False   \n",
              "\n",
              "      Furnishing Status  Tenant Preferred  Bathroom  Point of Contact  \n",
              "0                 False             False     False             False  \n",
              "1                 False             False     False             False  \n",
              "2                 False             False     False             False  \n",
              "3                 False             False     False             False  \n",
              "4                 False             False     False             False  \n",
              "...                 ...               ...       ...               ...  \n",
              "4741              False             False     False             False  \n",
              "4742              False             False     False             False  \n",
              "4743              False             False     False             False  \n",
              "4744              False             False     False             False  \n",
              "4745              False             False     False             False  \n",
              "\n",
              "[4746 rows x 12 columns]"
            ],
            "text/html": [
              "\n",
              "  <div id=\"df-96e0e72b-9cc8-4d0c-8096-9fbb939ec7c1\">\n",
              "    <div class=\"colab-df-container\">\n",
              "      <div>\n",
              "<style scoped>\n",
              "    .dataframe tbody tr th:only-of-type {\n",
              "        vertical-align: middle;\n",
              "    }\n",
              "\n",
              "    .dataframe tbody tr th {\n",
              "        vertical-align: top;\n",
              "    }\n",
              "\n",
              "    .dataframe thead th {\n",
              "        text-align: right;\n",
              "    }\n",
              "</style>\n",
              "<table border=\"1\" class=\"dataframe\">\n",
              "  <thead>\n",
              "    <tr style=\"text-align: right;\">\n",
              "      <th></th>\n",
              "      <th>Posted On</th>\n",
              "      <th>BHK</th>\n",
              "      <th>Rent</th>\n",
              "      <th>Size</th>\n",
              "      <th>Floor</th>\n",
              "      <th>Area Type</th>\n",
              "      <th>Area Locality</th>\n",
              "      <th>City</th>\n",
              "      <th>Furnishing Status</th>\n",
              "      <th>Tenant Preferred</th>\n",
              "      <th>Bathroom</th>\n",
              "      <th>Point of Contact</th>\n",
              "    </tr>\n",
              "  </thead>\n",
              "  <tbody>\n",
              "    <tr>\n",
              "      <th>0</th>\n",
              "      <td>False</td>\n",
              "      <td>False</td>\n",
              "      <td>False</td>\n",
              "      <td>False</td>\n",
              "      <td>False</td>\n",
              "      <td>False</td>\n",
              "      <td>False</td>\n",
              "      <td>False</td>\n",
              "      <td>False</td>\n",
              "      <td>False</td>\n",
              "      <td>False</td>\n",
              "      <td>False</td>\n",
              "    </tr>\n",
              "    <tr>\n",
              "      <th>1</th>\n",
              "      <td>False</td>\n",
              "      <td>False</td>\n",
              "      <td>False</td>\n",
              "      <td>False</td>\n",
              "      <td>False</td>\n",
              "      <td>False</td>\n",
              "      <td>False</td>\n",
              "      <td>False</td>\n",
              "      <td>False</td>\n",
              "      <td>False</td>\n",
              "      <td>False</td>\n",
              "      <td>False</td>\n",
              "    </tr>\n",
              "    <tr>\n",
              "      <th>2</th>\n",
              "      <td>False</td>\n",
              "      <td>False</td>\n",
              "      <td>False</td>\n",
              "      <td>False</td>\n",
              "      <td>False</td>\n",
              "      <td>False</td>\n",
              "      <td>False</td>\n",
              "      <td>False</td>\n",
              "      <td>False</td>\n",
              "      <td>False</td>\n",
              "      <td>False</td>\n",
              "      <td>False</td>\n",
              "    </tr>\n",
              "    <tr>\n",
              "      <th>3</th>\n",
              "      <td>False</td>\n",
              "      <td>False</td>\n",
              "      <td>False</td>\n",
              "      <td>False</td>\n",
              "      <td>False</td>\n",
              "      <td>False</td>\n",
              "      <td>False</td>\n",
              "      <td>False</td>\n",
              "      <td>False</td>\n",
              "      <td>False</td>\n",
              "      <td>False</td>\n",
              "      <td>False</td>\n",
              "    </tr>\n",
              "    <tr>\n",
              "      <th>4</th>\n",
              "      <td>False</td>\n",
              "      <td>False</td>\n",
              "      <td>False</td>\n",
              "      <td>False</td>\n",
              "      <td>False</td>\n",
              "      <td>False</td>\n",
              "      <td>False</td>\n",
              "      <td>False</td>\n",
              "      <td>False</td>\n",
              "      <td>False</td>\n",
              "      <td>False</td>\n",
              "      <td>False</td>\n",
              "    </tr>\n",
              "    <tr>\n",
              "      <th>...</th>\n",
              "      <td>...</td>\n",
              "      <td>...</td>\n",
              "      <td>...</td>\n",
              "      <td>...</td>\n",
              "      <td>...</td>\n",
              "      <td>...</td>\n",
              "      <td>...</td>\n",
              "      <td>...</td>\n",
              "      <td>...</td>\n",
              "      <td>...</td>\n",
              "      <td>...</td>\n",
              "      <td>...</td>\n",
              "    </tr>\n",
              "    <tr>\n",
              "      <th>4741</th>\n",
              "      <td>False</td>\n",
              "      <td>False</td>\n",
              "      <td>False</td>\n",
              "      <td>False</td>\n",
              "      <td>False</td>\n",
              "      <td>False</td>\n",
              "      <td>False</td>\n",
              "      <td>False</td>\n",
              "      <td>False</td>\n",
              "      <td>False</td>\n",
              "      <td>False</td>\n",
              "      <td>False</td>\n",
              "    </tr>\n",
              "    <tr>\n",
              "      <th>4742</th>\n",
              "      <td>False</td>\n",
              "      <td>False</td>\n",
              "      <td>False</td>\n",
              "      <td>False</td>\n",
              "      <td>False</td>\n",
              "      <td>False</td>\n",
              "      <td>False</td>\n",
              "      <td>False</td>\n",
              "      <td>False</td>\n",
              "      <td>False</td>\n",
              "      <td>False</td>\n",
              "      <td>False</td>\n",
              "    </tr>\n",
              "    <tr>\n",
              "      <th>4743</th>\n",
              "      <td>False</td>\n",
              "      <td>False</td>\n",
              "      <td>False</td>\n",
              "      <td>False</td>\n",
              "      <td>False</td>\n",
              "      <td>False</td>\n",
              "      <td>False</td>\n",
              "      <td>False</td>\n",
              "      <td>False</td>\n",
              "      <td>False</td>\n",
              "      <td>False</td>\n",
              "      <td>False</td>\n",
              "    </tr>\n",
              "    <tr>\n",
              "      <th>4744</th>\n",
              "      <td>False</td>\n",
              "      <td>False</td>\n",
              "      <td>False</td>\n",
              "      <td>False</td>\n",
              "      <td>False</td>\n",
              "      <td>False</td>\n",
              "      <td>False</td>\n",
              "      <td>False</td>\n",
              "      <td>False</td>\n",
              "      <td>False</td>\n",
              "      <td>False</td>\n",
              "      <td>False</td>\n",
              "    </tr>\n",
              "    <tr>\n",
              "      <th>4745</th>\n",
              "      <td>False</td>\n",
              "      <td>False</td>\n",
              "      <td>False</td>\n",
              "      <td>False</td>\n",
              "      <td>False</td>\n",
              "      <td>False</td>\n",
              "      <td>False</td>\n",
              "      <td>False</td>\n",
              "      <td>False</td>\n",
              "      <td>False</td>\n",
              "      <td>False</td>\n",
              "      <td>False</td>\n",
              "    </tr>\n",
              "  </tbody>\n",
              "</table>\n",
              "<p>4746 rows × 12 columns</p>\n",
              "</div>\n",
              "      <button class=\"colab-df-convert\" onclick=\"convertToInteractive('df-96e0e72b-9cc8-4d0c-8096-9fbb939ec7c1')\"\n",
              "              title=\"Convert this dataframe to an interactive table.\"\n",
              "              style=\"display:none;\">\n",
              "        \n",
              "  <svg xmlns=\"http://www.w3.org/2000/svg\" height=\"24px\"viewBox=\"0 0 24 24\"\n",
              "       width=\"24px\">\n",
              "    <path d=\"M0 0h24v24H0V0z\" fill=\"none\"/>\n",
              "    <path d=\"M18.56 5.44l.94 2.06.94-2.06 2.06-.94-2.06-.94-.94-2.06-.94 2.06-2.06.94zm-11 1L8.5 8.5l.94-2.06 2.06-.94-2.06-.94L8.5 2.5l-.94 2.06-2.06.94zm10 10l.94 2.06.94-2.06 2.06-.94-2.06-.94-.94-2.06-.94 2.06-2.06.94z\"/><path d=\"M17.41 7.96l-1.37-1.37c-.4-.4-.92-.59-1.43-.59-.52 0-1.04.2-1.43.59L10.3 9.45l-7.72 7.72c-.78.78-.78 2.05 0 2.83L4 21.41c.39.39.9.59 1.41.59.51 0 1.02-.2 1.41-.59l7.78-7.78 2.81-2.81c.8-.78.8-2.07 0-2.86zM5.41 20L4 18.59l7.72-7.72 1.47 1.35L5.41 20z\"/>\n",
              "  </svg>\n",
              "      </button>\n",
              "      \n",
              "  <style>\n",
              "    .colab-df-container {\n",
              "      display:flex;\n",
              "      flex-wrap:wrap;\n",
              "      gap: 12px;\n",
              "    }\n",
              "\n",
              "    .colab-df-convert {\n",
              "      background-color: #E8F0FE;\n",
              "      border: none;\n",
              "      border-radius: 50%;\n",
              "      cursor: pointer;\n",
              "      display: none;\n",
              "      fill: #1967D2;\n",
              "      height: 32px;\n",
              "      padding: 0 0 0 0;\n",
              "      width: 32px;\n",
              "    }\n",
              "\n",
              "    .colab-df-convert:hover {\n",
              "      background-color: #E2EBFA;\n",
              "      box-shadow: 0px 1px 2px rgba(60, 64, 67, 0.3), 0px 1px 3px 1px rgba(60, 64, 67, 0.15);\n",
              "      fill: #174EA6;\n",
              "    }\n",
              "\n",
              "    [theme=dark] .colab-df-convert {\n",
              "      background-color: #3B4455;\n",
              "      fill: #D2E3FC;\n",
              "    }\n",
              "\n",
              "    [theme=dark] .colab-df-convert:hover {\n",
              "      background-color: #434B5C;\n",
              "      box-shadow: 0px 1px 3px 1px rgba(0, 0, 0, 0.15);\n",
              "      filter: drop-shadow(0px 1px 2px rgba(0, 0, 0, 0.3));\n",
              "      fill: #FFFFFF;\n",
              "    }\n",
              "  </style>\n",
              "\n",
              "      <script>\n",
              "        const buttonEl =\n",
              "          document.querySelector('#df-96e0e72b-9cc8-4d0c-8096-9fbb939ec7c1 button.colab-df-convert');\n",
              "        buttonEl.style.display =\n",
              "          google.colab.kernel.accessAllowed ? 'block' : 'none';\n",
              "\n",
              "        async function convertToInteractive(key) {\n",
              "          const element = document.querySelector('#df-96e0e72b-9cc8-4d0c-8096-9fbb939ec7c1');\n",
              "          const dataTable =\n",
              "            await google.colab.kernel.invokeFunction('convertToInteractive',\n",
              "                                                     [key], {});\n",
              "          if (!dataTable) return;\n",
              "\n",
              "          const docLinkHtml = 'Like what you see? Visit the ' +\n",
              "            '<a target=\"_blank\" href=https://colab.research.google.com/notebooks/data_table.ipynb>data table notebook</a>'\n",
              "            + ' to learn more about interactive tables.';\n",
              "          element.innerHTML = '';\n",
              "          dataTable['output_type'] = 'display_data';\n",
              "          await google.colab.output.renderOutput(dataTable, element);\n",
              "          const docLink = document.createElement('div');\n",
              "          docLink.innerHTML = docLinkHtml;\n",
              "          element.appendChild(docLink);\n",
              "        }\n",
              "      </script>\n",
              "    </div>\n",
              "  </div>\n",
              "  "
            ]
          },
          "metadata": {},
          "execution_count": 141
        }
      ],
      "source": [
        "df.isna()"
      ]
    },
    {
      "cell_type": "code",
      "execution_count": null,
      "metadata": {
        "id": "b6_res7KGOYJ",
        "colab": {
          "base_uri": "https://localhost:8080/"
        },
        "outputId": "8059914f-f1df-493a-fa1a-54c9cdb77d6d"
      },
      "outputs": [
        {
          "output_type": "execute_result",
          "data": {
            "text/plain": [
              "Posted On            0\n",
              "BHK                  0\n",
              "Rent                 0\n",
              "Size                 0\n",
              "Floor                0\n",
              "Area Type            0\n",
              "Area Locality        0\n",
              "City                 0\n",
              "Furnishing Status    0\n",
              "Tenant Preferred     0\n",
              "Bathroom             0\n",
              "Point of Contact     0\n",
              "dtype: int64"
            ]
          },
          "metadata": {},
          "execution_count": 142
        }
      ],
      "source": [
        "df.isnull().sum()"
      ]
    },
    {
      "cell_type": "markdown",
      "metadata": {
        "id": "khU5hSmXG1No"
      },
      "source": [
        "There is no null values in the datset"
      ]
    },
    {
      "cell_type": "markdown",
      "metadata": {
        "id": "Zig0iRQXCePJ"
      },
      "source": [
        "#Pre-processing"
      ]
    },
    {
      "cell_type": "code",
      "execution_count": null,
      "metadata": {
        "id": "jKvmQaU1Cdn6"
      },
      "outputs": [],
      "source": [
        "df['floor_average'] = df.groupby(['Floor'])['Rent'].transform('mean')"
      ]
    },
    {
      "cell_type": "code",
      "execution_count": null,
      "metadata": {
        "id": "a_QUUsQ3CqzI"
      },
      "outputs": [],
      "source": [
        "df['area_locality_average'] = df.groupby(['Area Locality'])['Rent'].transform('mean')"
      ]
    },
    {
      "cell_type": "markdown",
      "source": [
        "floor_average: is the variable that takes the average rent for that specific floor.\n",
        "\n",
        "area_locality_average: is the variable that takes the average rent of the house location."
      ],
      "metadata": {
        "id": "TcJBXYHWW7zB"
      }
    },
    {
      "cell_type": "code",
      "execution_count": null,
      "metadata": {
        "id": "uQBwz-JMDGy2"
      },
      "outputs": [],
      "source": [
        "def group_floor(median):\n",
        "    if median > 20000:\n",
        "        return 0\n",
        "    elif median > 15000 and median < 20000:\n",
        "        return 1\n",
        "    elif median > 10000 and median < 15000:\n",
        "        return 2\n",
        "    elif median > 5000 and median < 10000:\n",
        "        return 3\n",
        "    else:\n",
        "        return 4"
      ]
    },
    {
      "cell_type": "code",
      "execution_count": null,
      "metadata": {
        "id": "XElMo7wUDLbV"
      },
      "outputs": [],
      "source": [
        "df['floor_group'] = df.apply(lambda x: group_floor(x['floor_average']),axis=1)"
      ]
    },
    {
      "cell_type": "code",
      "execution_count": null,
      "metadata": {
        "id": "2WtVCUP6DNkV"
      },
      "outputs": [],
      "source": [
        "df['locality_group'] = df.apply(lambda x: group_floor(x['area_locality_average']),axis=1)"
      ]
    },
    {
      "cell_type": "code",
      "execution_count": null,
      "metadata": {
        "id": "99JL932GDZfY",
        "colab": {
          "base_uri": "https://localhost:8080/"
        },
        "outputId": "a5809dd5-e4c2-4464-dc10-0a1ea8288280"
      },
      "outputs": [
        {
          "output_type": "stream",
          "name": "stderr",
          "text": [
            "/usr/local/lib/python3.7/dist-packages/ipykernel_launcher.py:1: FutureWarning: In a future version of pandas all arguments of DataFrame.drop except for the argument 'labels' will be keyword-only\n",
            "  \"\"\"Entry point for launching an IPython kernel.\n",
            "/usr/local/lib/python3.7/dist-packages/ipykernel_launcher.py:2: FutureWarning: In a future version of pandas all arguments of DataFrame.drop except for the argument 'labels' will be keyword-only\n",
            "  \n",
            "/usr/local/lib/python3.7/dist-packages/ipykernel_launcher.py:3: FutureWarning: In a future version of pandas all arguments of DataFrame.drop except for the argument 'labels' will be keyword-only\n",
            "  This is separate from the ipykernel package so we can avoid doing imports until\n",
            "/usr/local/lib/python3.7/dist-packages/ipykernel_launcher.py:4: FutureWarning: In a future version of pandas all arguments of DataFrame.drop except for the argument 'labels' will be keyword-only\n",
            "  after removing the cwd from sys.path.\n",
            "/usr/local/lib/python3.7/dist-packages/ipykernel_launcher.py:5: FutureWarning: In a future version of pandas all arguments of DataFrame.drop except for the argument 'labels' will be keyword-only\n",
            "  \"\"\"\n"
          ]
        }
      ],
      "source": [
        "df = df.drop('Posted On', 1)\n",
        "df = df.drop('Floor', 1)\n",
        "df = df.drop('Area Locality', 1)\n",
        "df = df.drop('floor_average', 1)\n",
        "df = df.drop('area_locality_average', 1)"
      ]
    },
    {
      "cell_type": "markdown",
      "metadata": {
        "id": "wHkN4F9XHFCB"
      },
      "source": [
        "#Data visualization"
      ]
    },
    {
      "cell_type": "code",
      "execution_count": null,
      "metadata": {
        "id": "emXX0rwOHF8W",
        "colab": {
          "base_uri": "https://localhost:8080/",
          "height": 206
        },
        "outputId": "de749092-a852-4b48-e796-e6a35a8ae7df"
      },
      "outputs": [
        {
          "output_type": "execute_result",
          "data": {
            "text/plain": [
              "   BHK   Rent  Size    Area Type     City Furnishing Status  Tenant Preferred  \\\n",
              "0    2  10000  1100   Super Area  Kolkata       Unfurnished  Bachelors/Family   \n",
              "1    2  20000   800   Super Area  Kolkata    Semi-Furnished  Bachelors/Family   \n",
              "2    2  17000  1000   Super Area  Kolkata    Semi-Furnished  Bachelors/Family   \n",
              "3    2  10000   800   Super Area  Kolkata       Unfurnished  Bachelors/Family   \n",
              "4    2   7500   850  Carpet Area  Kolkata       Unfurnished         Bachelors   \n",
              "\n",
              "   Bathroom Point of Contact  floor_group  locality_group  \n",
              "0         2    Contact Owner            2               3  \n",
              "1         1    Contact Owner            1               2  \n",
              "2         1    Contact Owner            1               0  \n",
              "3         1    Contact Owner            2               1  \n",
              "4         1    Contact Owner            2               3  "
            ],
            "text/html": [
              "\n",
              "  <div id=\"df-10241e43-b6bb-44ac-899e-8a73454e8ce1\">\n",
              "    <div class=\"colab-df-container\">\n",
              "      <div>\n",
              "<style scoped>\n",
              "    .dataframe tbody tr th:only-of-type {\n",
              "        vertical-align: middle;\n",
              "    }\n",
              "\n",
              "    .dataframe tbody tr th {\n",
              "        vertical-align: top;\n",
              "    }\n",
              "\n",
              "    .dataframe thead th {\n",
              "        text-align: right;\n",
              "    }\n",
              "</style>\n",
              "<table border=\"1\" class=\"dataframe\">\n",
              "  <thead>\n",
              "    <tr style=\"text-align: right;\">\n",
              "      <th></th>\n",
              "      <th>BHK</th>\n",
              "      <th>Rent</th>\n",
              "      <th>Size</th>\n",
              "      <th>Area Type</th>\n",
              "      <th>City</th>\n",
              "      <th>Furnishing Status</th>\n",
              "      <th>Tenant Preferred</th>\n",
              "      <th>Bathroom</th>\n",
              "      <th>Point of Contact</th>\n",
              "      <th>floor_group</th>\n",
              "      <th>locality_group</th>\n",
              "    </tr>\n",
              "  </thead>\n",
              "  <tbody>\n",
              "    <tr>\n",
              "      <th>0</th>\n",
              "      <td>2</td>\n",
              "      <td>10000</td>\n",
              "      <td>1100</td>\n",
              "      <td>Super Area</td>\n",
              "      <td>Kolkata</td>\n",
              "      <td>Unfurnished</td>\n",
              "      <td>Bachelors/Family</td>\n",
              "      <td>2</td>\n",
              "      <td>Contact Owner</td>\n",
              "      <td>2</td>\n",
              "      <td>3</td>\n",
              "    </tr>\n",
              "    <tr>\n",
              "      <th>1</th>\n",
              "      <td>2</td>\n",
              "      <td>20000</td>\n",
              "      <td>800</td>\n",
              "      <td>Super Area</td>\n",
              "      <td>Kolkata</td>\n",
              "      <td>Semi-Furnished</td>\n",
              "      <td>Bachelors/Family</td>\n",
              "      <td>1</td>\n",
              "      <td>Contact Owner</td>\n",
              "      <td>1</td>\n",
              "      <td>2</td>\n",
              "    </tr>\n",
              "    <tr>\n",
              "      <th>2</th>\n",
              "      <td>2</td>\n",
              "      <td>17000</td>\n",
              "      <td>1000</td>\n",
              "      <td>Super Area</td>\n",
              "      <td>Kolkata</td>\n",
              "      <td>Semi-Furnished</td>\n",
              "      <td>Bachelors/Family</td>\n",
              "      <td>1</td>\n",
              "      <td>Contact Owner</td>\n",
              "      <td>1</td>\n",
              "      <td>0</td>\n",
              "    </tr>\n",
              "    <tr>\n",
              "      <th>3</th>\n",
              "      <td>2</td>\n",
              "      <td>10000</td>\n",
              "      <td>800</td>\n",
              "      <td>Super Area</td>\n",
              "      <td>Kolkata</td>\n",
              "      <td>Unfurnished</td>\n",
              "      <td>Bachelors/Family</td>\n",
              "      <td>1</td>\n",
              "      <td>Contact Owner</td>\n",
              "      <td>2</td>\n",
              "      <td>1</td>\n",
              "    </tr>\n",
              "    <tr>\n",
              "      <th>4</th>\n",
              "      <td>2</td>\n",
              "      <td>7500</td>\n",
              "      <td>850</td>\n",
              "      <td>Carpet Area</td>\n",
              "      <td>Kolkata</td>\n",
              "      <td>Unfurnished</td>\n",
              "      <td>Bachelors</td>\n",
              "      <td>1</td>\n",
              "      <td>Contact Owner</td>\n",
              "      <td>2</td>\n",
              "      <td>3</td>\n",
              "    </tr>\n",
              "  </tbody>\n",
              "</table>\n",
              "</div>\n",
              "      <button class=\"colab-df-convert\" onclick=\"convertToInteractive('df-10241e43-b6bb-44ac-899e-8a73454e8ce1')\"\n",
              "              title=\"Convert this dataframe to an interactive table.\"\n",
              "              style=\"display:none;\">\n",
              "        \n",
              "  <svg xmlns=\"http://www.w3.org/2000/svg\" height=\"24px\"viewBox=\"0 0 24 24\"\n",
              "       width=\"24px\">\n",
              "    <path d=\"M0 0h24v24H0V0z\" fill=\"none\"/>\n",
              "    <path d=\"M18.56 5.44l.94 2.06.94-2.06 2.06-.94-2.06-.94-.94-2.06-.94 2.06-2.06.94zm-11 1L8.5 8.5l.94-2.06 2.06-.94-2.06-.94L8.5 2.5l-.94 2.06-2.06.94zm10 10l.94 2.06.94-2.06 2.06-.94-2.06-.94-.94-2.06-.94 2.06-2.06.94z\"/><path d=\"M17.41 7.96l-1.37-1.37c-.4-.4-.92-.59-1.43-.59-.52 0-1.04.2-1.43.59L10.3 9.45l-7.72 7.72c-.78.78-.78 2.05 0 2.83L4 21.41c.39.39.9.59 1.41.59.51 0 1.02-.2 1.41-.59l7.78-7.78 2.81-2.81c.8-.78.8-2.07 0-2.86zM5.41 20L4 18.59l7.72-7.72 1.47 1.35L5.41 20z\"/>\n",
              "  </svg>\n",
              "      </button>\n",
              "      \n",
              "  <style>\n",
              "    .colab-df-container {\n",
              "      display:flex;\n",
              "      flex-wrap:wrap;\n",
              "      gap: 12px;\n",
              "    }\n",
              "\n",
              "    .colab-df-convert {\n",
              "      background-color: #E8F0FE;\n",
              "      border: none;\n",
              "      border-radius: 50%;\n",
              "      cursor: pointer;\n",
              "      display: none;\n",
              "      fill: #1967D2;\n",
              "      height: 32px;\n",
              "      padding: 0 0 0 0;\n",
              "      width: 32px;\n",
              "    }\n",
              "\n",
              "    .colab-df-convert:hover {\n",
              "      background-color: #E2EBFA;\n",
              "      box-shadow: 0px 1px 2px rgba(60, 64, 67, 0.3), 0px 1px 3px 1px rgba(60, 64, 67, 0.15);\n",
              "      fill: #174EA6;\n",
              "    }\n",
              "\n",
              "    [theme=dark] .colab-df-convert {\n",
              "      background-color: #3B4455;\n",
              "      fill: #D2E3FC;\n",
              "    }\n",
              "\n",
              "    [theme=dark] .colab-df-convert:hover {\n",
              "      background-color: #434B5C;\n",
              "      box-shadow: 0px 1px 3px 1px rgba(0, 0, 0, 0.15);\n",
              "      filter: drop-shadow(0px 1px 2px rgba(0, 0, 0, 0.3));\n",
              "      fill: #FFFFFF;\n",
              "    }\n",
              "  </style>\n",
              "\n",
              "      <script>\n",
              "        const buttonEl =\n",
              "          document.querySelector('#df-10241e43-b6bb-44ac-899e-8a73454e8ce1 button.colab-df-convert');\n",
              "        buttonEl.style.display =\n",
              "          google.colab.kernel.accessAllowed ? 'block' : 'none';\n",
              "\n",
              "        async function convertToInteractive(key) {\n",
              "          const element = document.querySelector('#df-10241e43-b6bb-44ac-899e-8a73454e8ce1');\n",
              "          const dataTable =\n",
              "            await google.colab.kernel.invokeFunction('convertToInteractive',\n",
              "                                                     [key], {});\n",
              "          if (!dataTable) return;\n",
              "\n",
              "          const docLinkHtml = 'Like what you see? Visit the ' +\n",
              "            '<a target=\"_blank\" href=https://colab.research.google.com/notebooks/data_table.ipynb>data table notebook</a>'\n",
              "            + ' to learn more about interactive tables.';\n",
              "          element.innerHTML = '';\n",
              "          dataTable['output_type'] = 'display_data';\n",
              "          await google.colab.output.renderOutput(dataTable, element);\n",
              "          const docLink = document.createElement('div');\n",
              "          docLink.innerHTML = docLinkHtml;\n",
              "          element.appendChild(docLink);\n",
              "        }\n",
              "      </script>\n",
              "    </div>\n",
              "  </div>\n",
              "  "
            ]
          },
          "metadata": {},
          "execution_count": 149
        }
      ],
      "source": [
        "df.head()"
      ]
    },
    {
      "cell_type": "markdown",
      "metadata": {
        "id": "QQVopRkOR0HO"
      },
      "source": [
        "#Finding which houses are more  based on SIZE, BHK, BATHROOM."
      ]
    },
    {
      "cell_type": "code",
      "execution_count": null,
      "metadata": {
        "id": "DDzvQQrlRzYX",
        "colab": {
          "base_uri": "https://localhost:8080/",
          "height": 620
        },
        "outputId": "3c8e93b7-97d3-476a-89d1-6caf38574d0c"
      },
      "outputs": [
        {
          "output_type": "display_data",
          "data": {
            "text/plain": [
              "<Figure size 720x720 with 3 Axes>"
            ],
            "image/png": "[encoded data removed]"
          },
          "metadata": {}
        }
      ],
      "source": [
        "fig  = plt.figure(figsize = (10, 10))\n",
        "plt.subplot(1, 3, 1)\n",
        "n_bins=20\n",
        "plt.hist(df_dum[\"Size\"],  bins=n_bins)#, width=0.2)\n",
        "plt.xlabel(\"Size\")\n",
        "plt.ylabel(\"frequency\")\n",
        "plt.title(\"SIZE\")\n",
        "\n",
        "plt.subplot(1, 3, 2)\n",
        "n_bins=20\n",
        "plt.hist(df_dum[\"BHK\"],  bins=n_bins, width=0.4)\n",
        "plt.xlabel(\"BHK\")\n",
        "plt.ylabel(\"frequency\")\n",
        "plt.title(\"BHK\")\n",
        "\n",
        "plt.subplot(1, 3, 3)\n",
        "n_bins=20\n",
        "plt.hist(df_dum[\"Bathroom\"],  bins=n_bins, width=0.4)\n",
        "plt.xlabel(\"Bathroom\")\n",
        "plt.ylabel(\"frequency\")\n",
        "plt.title(\"BATHROOM\")\n",
        "\n",
        "plt.subplots_adjust(right = 2)"
      ]
    },
    {
      "cell_type": "markdown",
      "source": [
        "1)5000-1000 square feet houses are more.\n",
        "\n",
        "2)Houses with 2-BHK are and 2-Bathrooms are more"
      ],
      "metadata": {
        "id": "i_swrp1JrA1Q"
      }
    },
    {
      "cell_type": "markdown",
      "metadata": {
        "id": "NWoI_1JyX2IV"
      },
      "source": [
        "#Visualizing which Area locality having more house rent in some cities"
      ]
    },
    {
      "cell_type": "code",
      "execution_count": null,
      "metadata": {
        "id": "s5JeHJghGgLA",
        "colab": {
          "base_uri": "https://localhost:8080/"
        },
        "outputId": "90eb7ab8-9028-475a-c981-66462d5ac158"
      },
      "outputs": [
        {
          "output_type": "execute_result",
          "data": {
            "text/plain": [
              "array(['Kolkata', 'Mumbai', 'Bangalore', 'Delhi', 'Chennai', 'Hyderabad'],\n",
              "      dtype=object)"
            ]
          },
          "metadata": {},
          "execution_count": 151
        }
      ],
      "source": [
        "df_dum[\"City\"].unique()"
      ]
    },
    {
      "cell_type": "code",
      "execution_count": null,
      "metadata": {
        "id": "q7eYJzJMMM2h"
      },
      "outputs": [],
      "source": [
        "df1=df_dum[(df_dum[\"City\"]==\"Kolkata\") & (df_dum[\"Area Type\"]==\"Super Area\") & (df_dum[\"Floor\"]==\"1 out of 3\") &(df_dum[\"Rent\"] > 13000)]\n",
        "df2=df_dum[(df_dum[\"City\"]==\"Bangalore\") & (df_dum[\"Area Type\"]==\"Super Area\") & (df_dum[\"Floor\"]==\"1 out of 3\") & (df_dum[\"Rent\"] > 13000)]\n",
        "df3=df_dum[(df_dum[\"City\"]==\"Delhi\") & (df_dum[\"Area Type\"]==\"Super Area\") & (df_dum[\"Floor\"]==\"1 out of 3\") & (df_dum[\"Rent\"] > 13000)]\n",
        "df4=df_dum[(df_dum[\"City\"]==\"Hyderabad\") & (df_dum[\"Area Type\"]==\"Super Area\") & (df_dum[\"Floor\"]==\"1 out of 3\") & (df_dum[\"Rent\"] > 13000)]\n",
        "#df5=df_dum[(df_dum[\"City\"]==\"Mumbai\") & (df_dum[\"Area Type\"]==\"Super Area\") & (df_dum[\"Floor\"]==\"1 out of 3\") & (df_dum[\"Rent\"] > 13000)]\n",
        "#df6=df_dum[(df_dum[\"City\"]==\"Chenni\") & (df_dum[\"Area Type\"]==\"Super Area\") & (df_dum[\"Floor\"]==\"1 out of 3\") & (df_dum[\"Rent\"] > 13000)]\n"
      ]
    },
    {
      "cell_type": "code",
      "execution_count": null,
      "metadata": {
        "id": "niptvcBoXSW7"
      },
      "outputs": [],
      "source": [
        "def plot1(x):\n",
        "  #x= x + 1\n",
        "  if x==1: \n",
        "    var=df1\n",
        "    y=\"kolkata\"\n",
        "  elif x==2:\n",
        "    var=df2\n",
        "    y=\"Banglore\"\n",
        "  elif x==3:\n",
        "    var=df3\n",
        "    y=\"Delhi\"\n",
        "  elif x==4:\n",
        "    var=df4\n",
        "    y=\"Hyderabad\"  \n",
        "  elif x==5:\n",
        "    var=df5\n",
        "    y=\"Mumbai\"\n",
        "  elif x==6:\n",
        "    var=df6\n",
        "    y=\"Chenni\"    \n",
        "  plt.subplot(2, 2, x)\n",
        "  bars=plt.bar(var[\"Area Locality\"], var[\"Rent\"], color ='grey',width = 0.6)\n",
        "  addlabels(bars)\n",
        "  plt.xlabel(\"Area Locality\")\n",
        "  plt.ylabel(\"Rent\")\n",
        "  plt.xticks(rotation = 60)\n",
        "  plt.subplots_adjust(hspace=0.4)\n",
        "  plt.title(\"Finding Which AreaLocality having more House Rent in \"+ y + \" City\")"
      ]
    },
    {
      "cell_type": "code",
      "execution_count": null,
      "metadata": {
        "id": "pNZnxS8awk1-"
      },
      "outputs": [],
      "source": [
        "def addlabels(var):\n",
        "  for bar in var:\n",
        "      height = bar.get_height()\n",
        "      if height > 13000:\n",
        "          plt.text(bar.get_x() + bar.get_width()/2., 1.02*height, \n",
        "                '%d'%int(height), ha = 'center', va = 'baseline', rotation = 0, fontsize=9)"
      ]
    },
    {
      "cell_type": "code",
      "execution_count": null,
      "metadata": {
        "id": "gpmzl_SbsfOK",
        "colab": {
          "base_uri": "https://localhost:8080/",
          "height": 1000
        },
        "outputId": "ebe5f5a6-58af-4159-ca42-d2e8dfecd7c8"
      },
      "outputs": [
        {
          "output_type": "display_data",
          "data": {
            "text/plain": [
              "<Figure size 1584x1584 with 4 Axes>"
            ],
            "image/png": "[encoded data removed]"
          },
          "metadata": {}
        }
      ],
      "source": [
        "fig  = plt.figure(figsize = (22, 22))\n",
        "fig.tight_layout()\n",
        "for i in range(4):\n",
        "  plot1(i+1)  "
      ]
    },
    {
      "cell_type": "markdown",
      "metadata": {
        "id": "DkvZjopzZE5e"
      },
      "source": [
        "\n",
        "\n",
        "1)In the first subplot,in city Kolkatta, Area locality \"Naihati\" having more value according to House rent.\n",
        "\n",
        "2)In the second subplot,in city Banglore, Area locality \"Chowdeshwari layout,Yalahanka\" having more value according to House rent.\n",
        "\n",
        "3)In the third subplot,in city Delhi, Area locality \"Vasant Kunj\" having more value according to House rent.\n",
        "\n",
        "4)In the fourth subplot,in city Hyderabad, Area locality \"Banjara Hills,NH9\" having more value according to House rent."
      ]
    },
    {
      "cell_type": "markdown",
      "source": [
        "Categorical variables data contribution"
      ],
      "metadata": {
        "id": "RuhLGLaya9Wi"
      }
    },
    {
      "cell_type": "code",
      "source": [
        "plt.figure(figsize = (20,20))\n",
        "\n",
        "plt.subplot(3,2,1)\n",
        "sns.countplot(x = 'Area Type', palette='Set1', data = df)\n",
        "\n",
        "plt.subplot(3,2,2)\n",
        "sns.countplot(x = 'Furnishing Status', palette='Set1', data = df)\n",
        "\n",
        "plt.subplot(3,2,3)\n",
        "sns.countplot(x = 'Tenant Preferred', palette='Set1', data = df)\n",
        "\n",
        "plt.subplot(3,2,4)\n",
        "sns.countplot(x = 'Point of Contact', palette='Set1', data = df)\n",
        "\n",
        "plt.subplot(3,2,5)\n",
        "sns.countplot(x = 'floor_group', palette='Set1', data = df)\n",
        "\n",
        "plt.subplot(3,2,6)\n",
        "sns.countplot(x = 'locality_group', palette='Set1', data = df)"
      ],
      "metadata": {
        "colab": {
          "base_uri": "https://localhost:8080/",
          "height": 1000
        },
        "id": "UtnVCV5_bTbB",
        "outputId": "d8579c86-a9fb-41fc-e02b-9d3860e0323f"
      },
      "execution_count": null,
      "outputs": [
        {
          "output_type": "execute_result",
          "data": {
            "text/plain": [
              "<matplotlib.axes._subplots.AxesSubplot at 0x7f8c4e476950>"
            ]
          },
          "metadata": {},
          "execution_count": 156
        },
        {
          "output_type": "display_data",
          "data": {
            "text/plain": [
              "<Figure size 1440x1440 with 6 Axes>"
            ],
            "image/png": "[encoded data removed]"
          },
          "metadata": {}
        }
      ]
    },
    {
      "cell_type": "markdown",
      "source": [
        "\n",
        "\n",
        "1)Area Type: Most of our data has the area in carpet or super area.\n",
        "\n",
        "2)Furnishing: Much of the data is semi Furnished or Unfurnished.\n",
        "\n",
        "3)Tenant: We can see that most locations do not have a tenant preference.\n",
        "\n",
        "4)Point of Contact: most of the data you contact directly with the owner.\n",
        "\n",
        "5)Floor Group: We can see the distribution of the variable we created, we can see that few floors have an average rent below 10000.\n",
        "\n",
        "6)Locality Group: We can see that we have a good distribution of rental value depending on the location of the rental."
      ],
      "metadata": {
        "id": "MTGsDsBfcijy"
      }
    },
    {
      "cell_type": "markdown",
      "metadata": {
        "id": "hygEXCLokOZ-"
      },
      "source": [
        "#Correlation"
      ]
    },
    {
      "cell_type": "code",
      "execution_count": null,
      "metadata": {
        "colab": {
          "base_uri": "https://localhost:8080/",
          "height": 612
        },
        "id": "mWEK4l_pkOCn",
        "outputId": "f1a75941-e09e-4ed2-f9df-f167ded7f878"
      },
      "outputs": [
        {
          "output_type": "execute_result",
          "data": {
            "text/plain": [
              "<matplotlib.axes._subplots.AxesSubplot at 0x7f8c4edebdd0>"
            ]
          },
          "metadata": {},
          "execution_count": 157
        },
        {
          "output_type": "display_data",
          "data": {
            "text/plain": [
              "<Figure size 864x720 with 2 Axes>"
            ],
            "image/png": "[encoded data removed]"
          },
          "metadata": {}
        }
      ],
      "source": [
        "correlation = df.corr().round(2)\n",
        "plt.figure(figsize = (12,10))\n",
        "sns.heatmap(correlation, annot = True, cmap = 'viridis')"
      ]
    },
    {
      "cell_type": "markdown",
      "metadata": {
        "id": "ttib8hIDk7pO"
      },
      "source": [
        "\n",
        "1)In the above correlation the features BHK and Bathroom and SIZE are highly correlated.\n"
      ]
    },
    {
      "cell_type": "code",
      "execution_count": null,
      "metadata": {
        "id": "RKgVBYIDkaqh"
      },
      "outputs": [],
      "source": [
        "#df = df.drop('Bathroom', 1)\n",
        "#df = df.drop('BHK', 1)"
      ]
    },
    {
      "cell_type": "code",
      "execution_count": null,
      "metadata": {
        "id": "ZPfiFkWJkhb5"
      },
      "outputs": [],
      "source": [
        "#correlation = df.corr().round(2)\n",
        "#plt.figure(figsize = (12,10))\n",
        "#sns.heatmap(correlation, annot = True, cmap = 'viridis')'''"
      ]
    },
    {
      "cell_type": "markdown",
      "metadata": {
        "id": "Z3iFsQ8rlIl-"
      },
      "source": [
        "#Box Plot"
      ]
    },
    {
      "cell_type": "code",
      "execution_count": null,
      "metadata": {
        "colab": {
          "base_uri": "https://localhost:8080/",
          "height": 378
        },
        "id": "dHy9G8SjlM43",
        "outputId": "67e69620-16ff-49f7-e248-e4f86d1d9240"
      },
      "outputs": [
        {
          "output_type": "execute_result",
          "data": {
            "text/plain": [
              "<matplotlib.axes._subplots.AxesSubplot at 0x7f8c42dc3210>"
            ]
          },
          "metadata": {},
          "execution_count": 160
        },
        {
          "output_type": "display_data",
          "data": {
            "text/plain": [
              "<Figure size 576x396 with 1 Axes>"
            ],
            "image/png": "[encoded data removed]"
          },
          "metadata": {}
        }
      ],
      "source": [
        "sns.boxplot(x=df[\"Size\"])"
      ]
    },
    {
      "cell_type": "code",
      "source": [
        "df.drop(df[(df['Size'] > 5000)].index, inplace=True)\n",
        "sns.boxplot(x=df[\"Size\"])"
      ],
      "metadata": {
        "colab": {
          "base_uri": "https://localhost:8080/",
          "height": 378
        },
        "id": "kRmq7062B1RS",
        "outputId": "9d46a1bd-5f86-4651-810e-c10ebe3d735a"
      },
      "execution_count": null,
      "outputs": [
        {
          "output_type": "execute_result",
          "data": {
            "text/plain": [
              "<matplotlib.axes._subplots.AxesSubplot at 0x7f8c42ffac90>"
            ]
          },
          "metadata": {},
          "execution_count": 161
        },
        {
          "output_type": "display_data",
          "data": {
            "text/plain": [
              "<Figure size 576x396 with 1 Axes>"
            ],
            "image/png": "[encoded data removed]"
          },
          "metadata": {}
        }
      ]
    },
    {
      "cell_type": "code",
      "execution_count": null,
      "metadata": {
        "colab": {
          "base_uri": "https://localhost:8080/",
          "height": 378
        },
        "id": "NMxmzgX9lUh_",
        "outputId": "e0b8090c-0116-41fd-d728-866bbee020df"
      },
      "outputs": [
        {
          "output_type": "execute_result",
          "data": {
            "text/plain": [
              "<matplotlib.axes._subplots.AxesSubplot at 0x7f8c4250b3d0>"
            ]
          },
          "metadata": {},
          "execution_count": 162
        },
        {
          "output_type": "display_data",
          "data": {
            "text/plain": [
              "<Figure size 576x396 with 1 Axes>"
            ],
            "image/png": "[encoded data removed]"
          },
          "metadata": {}
        }
      ],
      "source": [
        "sns.boxplot(x=df[\"Rent\"])"
      ]
    },
    {
      "cell_type": "code",
      "execution_count": null,
      "metadata": {
        "colab": {
          "base_uri": "https://localhost:8080/",
          "height": 378
        },
        "id": "wJYHsKGtlbjn",
        "outputId": "b6f357e1-7e89-48b3-b82e-05750c44a352"
      },
      "outputs": [
        {
          "output_type": "execute_result",
          "data": {
            "text/plain": [
              "<matplotlib.axes._subplots.AxesSubplot at 0x7f8c424e8550>"
            ]
          },
          "metadata": {},
          "execution_count": 163
        },
        {
          "output_type": "display_data",
          "data": {
            "text/plain": [
              "<Figure size 576x396 with 1 Axes>"
            ],
            "image/png": "[encoded data removed]"
          },
          "metadata": {}
        }
      ],
      "source": [
        "df.drop(df[(df['Rent'] > 110000)].index, inplace=True)\n",
        "sns.boxplot(x=df[\"Rent\"])"
      ]
    },
    {
      "cell_type": "markdown",
      "source": [
        "\n",
        "\n",
        "Removing the outliers with help of box plots\n",
        "dropping the observations which are more than 11000 in rent and size more than 5000"
      ],
      "metadata": {
        "id": "5N-D4TWT49JB"
      }
    },
    {
      "cell_type": "markdown",
      "metadata": {
        "id": "CNdPJ8PqTMMB"
      },
      "source": [
        "# Model"
      ]
    },
    {
      "cell_type": "code",
      "execution_count": null,
      "metadata": {
        "id": "ux4Pfu9o-ATu"
      },
      "outputs": [],
      "source": [
        "from sklearn.linear_model import LinearRegression\n",
        "lr_model = LinearRegression()\n",
        "from sklearn.metrics import mean_absolute_error, mean_squared_error\n",
        "import pandas as pd\n",
        "import numpy as np\n",
        "import matplotlib.pyplot as plt\n",
        "import seaborn as sns\n",
        "import plotly.express as px\n",
        "from sklearn.metrics import accuracy_score, confusion_matrix, classification_report\n",
        "from yellowbrick.classifier import ConfusionMatrix\n",
        "from sklearn.tree import DecisionTreeClassifier\n",
        "from sklearn.metrics import r2_score"
      ]
    },
    {
      "cell_type": "code",
      "source": [
        "df"
      ],
      "metadata": {
        "id": "-wGHPE_Mugs4"
      },
      "execution_count": null,
      "outputs": []
    },
    {
      "cell_type": "code",
      "execution_count": null,
      "metadata": {
        "id": "8516hiTXTOcP"
      },
      "outputs": [],
      "source": [
        "df = df[['Size', 'Area Type', 'City', 'Furnishing Status',\n",
        "       'Tenant Preferred', 'Point of Contact', 'floor_group',\n",
        "       'locality_group', 'Rent', 'BHK', \"Bathroom\"]]"
      ]
    },
    {
      "cell_type": "code",
      "execution_count": null,
      "metadata": {
        "id": "os6konv3TX-x"
      },
      "outputs": [],
      "source": [
        "X = df.iloc[:, 0:8].values"
      ]
    },
    {
      "cell_type": "code",
      "execution_count": null,
      "metadata": {
        "colab": {
          "base_uri": "https://localhost:8080/"
        },
        "id": "PWtBfKNJ7g4X",
        "outputId": "df6bacc5-ef03-484e-cb4f-ab96f803e5d2"
      },
      "outputs": [
        {
          "output_type": "execute_result",
          "data": {
            "text/plain": [
              "array([[1100, 'Super Area', 'Kolkata', ..., 'Contact Owner', 2, 3],\n",
              "       [800, 'Super Area', 'Kolkata', ..., 'Contact Owner', 1, 2],\n",
              "       [1000, 'Super Area', 'Kolkata', ..., 'Contact Owner', 1, 0],\n",
              "       ...,\n",
              "       [1750, 'Carpet Area', 'Hyderabad', ..., 'Contact Agent', 0, 0],\n",
              "       [1500, 'Carpet Area', 'Hyderabad', ..., 'Contact Agent', 0, 0],\n",
              "       [1000, 'Carpet Area', 'Hyderabad', ..., 'Contact Owner', 1, 1]],\n",
              "      dtype=object)"
            ]
          },
          "metadata": {},
          "execution_count": 168
        }
      ],
      "source": [
        "X"
      ]
    },
    {
      "cell_type": "markdown",
      "source": [
        "converting the dataset into an array"
      ],
      "metadata": {
        "id": "pgI3rhJz5KDQ"
      }
    },
    {
      "cell_type": "code",
      "execution_count": null,
      "metadata": {
        "id": "yRHlMD4XTZPw"
      },
      "outputs": [],
      "source": [
        "y = df.iloc[:, 8].values"
      ]
    },
    {
      "cell_type": "markdown",
      "metadata": {
        "id": "deW9H-xFnSjg"
      },
      "source": [
        "#Feature Label Encoding"
      ]
    },
    {
      "cell_type": "code",
      "execution_count": null,
      "metadata": {
        "id": "vVIfAljkX0F-"
      },
      "outputs": [],
      "source": [
        "from sklearn.preprocessing import LabelEncoder"
      ]
    },
    {
      "cell_type": "code",
      "execution_count": null,
      "metadata": {
        "id": "0tJiCj-KYBCw"
      },
      "outputs": [],
      "source": [
        "label_encoder_area_type = LabelEncoder()\n",
        "label_encoder_city = LabelEncoder()\n",
        "label_encoder_furnishing = LabelEncoder()\n",
        "label_encoder_tenant = LabelEncoder()\n",
        "label_encoder_contract = LabelEncoder()"
      ]
    },
    {
      "cell_type": "code",
      "execution_count": null,
      "metadata": {
        "id": "UcSGuykMYC__"
      },
      "outputs": [],
      "source": [
        "X[:,1] = label_encoder_area_type.fit_transform(X[:,1])\n",
        "X[:,2] = label_encoder_city.fit_transform(X[:,2])\n",
        "X[:,3] = label_encoder_furnishing.fit_transform(X[:,3])\n",
        "X[:,4] = label_encoder_tenant.fit_transform(X[:,4])\n",
        "X[:,5] = label_encoder_contract.fit_transform(X[:,5])"
      ]
    },
    {
      "cell_type": "markdown",
      "source": [
        "converting the categorical values into quantitative values using label encoder from sklearn.preprocessing lib,\n",
        " \n",
        " Features are,(areatype, city, furnishing,tenant,contract).\n",
        "\n"
      ],
      "metadata": {
        "id": "ULniGWI-5SIw"
      }
    },
    {
      "cell_type": "markdown",
      "metadata": {
        "id": "WJOpwV9wnfQQ"
      },
      "source": [
        "#Feature Scaling"
      ]
    },
    {
      "cell_type": "code",
      "execution_count": null,
      "metadata": {
        "id": "3ztc7AASYGGG"
      },
      "outputs": [],
      "source": [
        "from sklearn.preprocessing import StandardScaler\n",
        "scaler = StandardScaler()\n",
        "X_standard = scaler.fit_transform(X)\n",
        "y_standard = scaler.fit_transform(y.reshape(-1,1))"
      ]
    },
    {
      "cell_type": "markdown",
      "source": [
        "Decomposing the big values into smaller values within the range of (-1,1) using standard scaler tool"
      ],
      "metadata": {
        "id": "TeNC6FHR5zh7"
      }
    },
    {
      "cell_type": "markdown",
      "metadata": {
        "id": "TUJn8D7Hns-I"
      },
      "source": [
        "#Model Building"
      ]
    },
    {
      "cell_type": "code",
      "execution_count": null,
      "metadata": {
        "id": "aZ2KBAzyYJ2-"
      },
      "outputs": [],
      "source": [
        "from sklearn.model_selection import train_test_split"
      ]
    },
    {
      "cell_type": "code",
      "execution_count": null,
      "metadata": {
        "id": "odRKYBt_YMG2"
      },
      "outputs": [],
      "source": [
        "X_train, X_test, y_train, y_test = train_test_split(X_standard, y_standard, test_size = 0.3, random_state = 0)"
      ]
    },
    {
      "cell_type": "code",
      "execution_count": null,
      "metadata": {
        "colab": {
          "base_uri": "https://localhost:8080/"
        },
        "id": "pYZQRWhJYkne",
        "outputId": "68da89b1-4373-40de-85c7-b4cbaab3e083"
      },
      "outputs": [
        {
          "output_type": "execute_result",
          "data": {
            "text/plain": [
              "((3136, 8), (3136, 1))"
            ]
          },
          "metadata": {},
          "execution_count": 176
        }
      ],
      "source": [
        "X_train.shape, y_train.shape"
      ]
    },
    {
      "cell_type": "code",
      "execution_count": null,
      "metadata": {
        "colab": {
          "base_uri": "https://localhost:8080/"
        },
        "id": "6u37XnRqYrsO",
        "outputId": "21a52200-f268-4f82-8fdb-937e7997e897"
      },
      "outputs": [
        {
          "output_type": "execute_result",
          "data": {
            "text/plain": [
              "((1344, 8), (1344, 1))"
            ]
          },
          "metadata": {},
          "execution_count": 177
        }
      ],
      "source": [
        "X_test.shape, y_test.shape"
      ]
    },
    {
      "cell_type": "markdown",
      "metadata": {
        "id": "_iBdRMennzXA"
      },
      "source": [
        "Splitting the dataset into train and test set, for traing the model, one train set ,for testing the model another test set. "
      ]
    },
    {
      "cell_type": "markdown",
      "metadata": {
        "id": "L9VFNZopYvYf"
      },
      "source": [
        "##Linear Regression"
      ]
    },
    {
      "cell_type": "code",
      "execution_count": null,
      "metadata": {
        "id": "c60IQrUR20BI"
      },
      "outputs": [],
      "source": [
        "def LinearRegression1(X, y):\n",
        "    lr_model.fit(X, y)\n",
        "    lr_normal_intercept = lr_model.intercept_\n",
        "    #lr_normal_intercept\n",
        "    lr_normal_coef = lr_model.coef_\n",
        "    #lr_normal_coef\n",
        "    lr_normal_score = lr_model.score(X, y)\n",
        "    #lr_normal_score_test = lr_model.score(X, y)\n",
        "    previsoes = lr_model.predict(X)\n",
        "    mse_lr_normal = mean_absolute_error(y, previsoes)\n",
        "    rmse_lr_normal = np.sqrt(mean_squared_error(y, previsoes))\n",
        "    return(lr_normal_score, mse_lr_normal, rmse_lr_normal )"
      ]
    },
    {
      "cell_type": "code",
      "execution_count": null,
      "metadata": {
        "colab": {
          "base_uri": "https://localhost:8080/"
        },
        "id": "ZeYP6JXas224",
        "outputId": "5737a2d9-d570-4170-8dba-199705abfc13"
      },
      "outputs": [
        {
          "output_type": "stream",
          "name": "stdout",
          "text": [
            "Linear Regression\n",
            "\n",
            "\n",
            "Train_accuracy           0.591\n",
            "Mean Square Error        0.44\n",
            "Root Mean Square Error   0.641\n",
            "_ _ _ _ _ _ _ _ _ _ _ _ _ _ _ _ \n",
            "Test_accuracy            0.616\n",
            "Mean Square Error        0.433\n",
            "Root Mean Square Error   0.616\n"
          ]
        }
      ],
      "source": [
        "Modeltrain = LinearRegression1(X_train, y_train)\n",
        "print(\"Linear Regression\")\n",
        "print(\"\\n\")\n",
        "print(\"Train_accuracy           \"+str(round(Modeltrain[0],3)))\n",
        "print(\"Mean Square Error        \"+str(round(Modeltrain[1],3)))\n",
        "print(\"Root Mean Square Error   \"+str(round(Modeltrain[2],3)))\n",
        "print('_ '*16)\n",
        "Modeltest = LinearRegression1(X_test, y_test)\n",
        "print(\"Test_accuracy            \"+str(round(Modeltest[0],3)))\n",
        "print(\"Mean Square Error        \"+str(round(Modeltest[1],3)))\n",
        "print(\"Root Mean Square Error   \"+str(round(Modeltest[2],3)))"
      ]
    },
    {
      "cell_type": "markdown",
      "metadata": {
        "id": "8Dts7giU78M-"
      },
      "source": [
        "##Ridge Regression"
      ]
    },
    {
      "cell_type": "code",
      "execution_count": null,
      "metadata": {
        "id": "OMackW-b6sUX"
      },
      "outputs": [],
      "source": [
        "from sklearn.linear_model import Ridge\n",
        "modelRidge = Ridge(alpha=10)"
      ]
    },
    {
      "cell_type": "code",
      "execution_count": null,
      "metadata": {
        "id": "qddaPlmy6tV2",
        "colab": {
          "base_uri": "https://localhost:8080/"
        },
        "outputId": "33c84bed-ac6b-4297-8934-cddf73af17ec"
      },
      "outputs": [
        {
          "output_type": "execute_result",
          "data": {
            "text/plain": [
              "Ridge(alpha=10)"
            ]
          },
          "metadata": {},
          "execution_count": 181
        }
      ],
      "source": [
        "modelRidge.fit(X_train, y_train)"
      ]
    },
    {
      "cell_type": "code",
      "execution_count": null,
      "metadata": {
        "id": "l4HvEnUQ6xcf"
      },
      "outputs": [],
      "source": [
        "def Ridge(X,Y):\n",
        "      modelRidge.fit(X, Y)\n",
        "      lr_ridge_score = modelRidge.score(X, Y)\n",
        "      return(lr_ridge_score)"
      ]
    },
    {
      "cell_type": "code",
      "execution_count": null,
      "metadata": {
        "id": "_2abShxx60Hu",
        "colab": {
          "base_uri": "https://localhost:8080/"
        },
        "outputId": "8d897c32-c17c-4d85-d2cd-c56e30e290f8"
      },
      "outputs": [
        {
          "output_type": "stream",
          "name": "stdout",
          "text": [
            "Ridge Regression\n",
            "\n",
            "\n",
            "Train_accuracy   0.59\n",
            "_ _ _ _ _ _ _ _ _ _ _ \n",
            "\n",
            "\n",
            "Test_accuracy    0.62\n"
          ]
        }
      ],
      "source": [
        "Modeltrain = Ridge(X_train,y_train)\n",
        "Modeltest  = Ridge(X_test,y_test)\n",
        "print(\"Ridge Regression\")\n",
        "print(\"\\n\")\n",
        "print(\"Train_accuracy   \"+str(round(Modeltrain,2)))\n",
        "print('_ '*11)\n",
        "print(\"\\n\")\n",
        "print(\"Test_accuracy    \"+str(round(Modeltest,2)))"
      ]
    },
    {
      "cell_type": "markdown",
      "metadata": {
        "id": "SFt7VBWc-lGe"
      },
      "source": [
        "##Polynomial Regression"
      ]
    },
    {
      "cell_type": "code",
      "execution_count": null,
      "metadata": {
        "id": "f99wU2lW7TIn"
      },
      "outputs": [],
      "source": [
        "from sklearn.preprocessing import PolynomialFeatures"
      ]
    },
    {
      "cell_type": "code",
      "execution_count": null,
      "metadata": {
        "id": "tSbIPJqA-qmE",
        "colab": {
          "base_uri": "https://localhost:8080/"
        },
        "outputId": "acd314be-207e-4659-ae51-cc7ad268e177"
      },
      "outputs": [
        {
          "output_type": "execute_result",
          "data": {
            "text/plain": [
              "((3136, 45), (1344, 45))"
            ]
          },
          "metadata": {},
          "execution_count": 185
        }
      ],
      "source": [
        "poly = PolynomialFeatures(degree = 2)\n",
        "X_poly_train = poly.fit_transform(X_train)\n",
        "X_poly_test = poly.transform(X_test)\n",
        "X_poly_train.shape, X_poly_test.shape"
      ]
    },
    {
      "cell_type": "code",
      "execution_count": null,
      "metadata": {
        "id": "cd77NKXG_GFs"
      },
      "outputs": [],
      "source": [
        "def poly(X,y):\n",
        "      lr_poly = LinearRegression()\n",
        "      lr_poly.fit(X, y)\n",
        "      lr_poly_normal_score = lr_poly.score(X, y)\n",
        "      previsoes = lr_poly.predict(X)\n",
        "      mse_poly_normal = mean_absolute_error(y, previsoes)\n",
        "      rmse_poly_normal = np.sqrt(mean_squared_error(y, previsoes))\n",
        "      return(lr_poly_normal_score, mse_poly_normal, rmse_poly_normal)"
      ]
    },
    {
      "cell_type": "code",
      "source": [
        "Modeltrain2 = poly(X_poly_train,y_train)\n",
        "Modeltest2  = poly(X_poly_test,y_test)\n",
        "print(\"polynomial Regression\")\n",
        "print(\"\\n\")\n",
        "print(\"Train_accuracy           \"+str(round(Modeltrain2[0],3)))\n",
        "print(\"Mean Square Error        \"+str(round(Modeltrain2[1],3)))\n",
        "print(\"Root Mean Square Error   \"+str(round(Modeltrain2[2],3)))\n",
        "print('_ '*15)\n",
        "print(\"\\n\")\n",
        "print(\"Test_accuracy            \"+str(round(Modeltest2[0],3)))\n",
        "print(\"Mean Square Error        \"+str(round(Modeltest2[1],3)))\n",
        "print(\"Root Mean Square Error   \"+str(round(Modeltest2[2],3)))"
      ],
      "metadata": {
        "colab": {
          "base_uri": "https://localhost:8080/"
        },
        "id": "gykRapGJ0L-r",
        "outputId": "9343de21-f7aa-472a-f910-f9d89e673e08"
      },
      "execution_count": null,
      "outputs": [
        {
          "output_type": "stream",
          "name": "stdout",
          "text": [
            "polynomial Regression\n",
            "\n",
            "\n",
            "Train_accuracy           0.712\n",
            "Mean Square Error        0.343\n",
            "Root Mean Square Error   0.538\n",
            "_ _ _ _ _ _ _ _ _ _ _ _ _ _ _ \n",
            "\n",
            "\n",
            "Test_accuracy            0.732\n",
            "Mean Square Error        0.331\n",
            "Root Mean Square Error   0.514\n"
          ]
        }
      ]
    },
    {
      "cell_type": "markdown",
      "metadata": {
        "id": "1BP7vs68oHPa"
      },
      "source": [
        "##Random Forest"
      ]
    },
    {
      "cell_type": "code",
      "execution_count": null,
      "metadata": {
        "id": "rtP8QjEICVKL"
      },
      "outputs": [],
      "source": [
        "from sklearn.ensemble import RandomForestRegressor\n",
        "regressor_rf = RandomForestRegressor(n_estimators = 100)"
      ]
    },
    {
      "cell_type": "code",
      "execution_count": null,
      "metadata": {
        "id": "5lvuhr1gGDbJ"
      },
      "outputs": [],
      "source": [
        "def randforest(X,y):\n",
        "    regressor_rf.fit(X, y)\n",
        "    lr_normal_rf = regressor_rf.score(X, y)\n",
        "    #lr_normal_rf_test = regressor_rf.score(X, y)\n",
        "    previsoes = regressor_rf.predict(X)\n",
        "    mse_lr_normal_rf  = mean_absolute_error(y, previsoes)\n",
        "    rmse_lr_normal_rf = np.sqrt(mean_squared_error(y, previsoes))\n",
        "    return(lr_normal_rf, mse_lr_normal_rf, rmse_lr_normal_rf)"
      ]
    },
    {
      "cell_type": "code",
      "source": [
        "Modeltrain3 = randforest(X_train,y_train)\n",
        "Modeltest3  = randforest(X_test,y_test)\n",
        "print(\"Random Forest\")\n",
        "print(\"\\n\")\n",
        "print(\"Train_accuracy           \"+str(round(Modeltrain3[0],3)))\n",
        "print(\"Mean Square Error        \"+str(round(Modeltrain3[1],3)))\n",
        "print(\"Root Mean Square Error   \"+str(round(Modeltrain3[2],3)))\n",
        "print('_ '*15)\n",
        "print(\"\\n\")\n",
        "print(\"Test_accuracy            \"+str(round(Modeltest3[0],3)))\n",
        "print(\"Mean Square Error        \"+str(round(Modeltest3[1],3)))\n",
        "print(\"Root Mean Square Error   \"+str(round(Modeltest3[2],3)))"
      ],
      "metadata": {
        "colab": {
          "base_uri": "https://localhost:8080/"
        },
        "id": "3raVe4Xa2-B5",
        "outputId": "1e2aa0b3-244f-4068-e060-9e7398926439"
      },
      "execution_count": null,
      "outputs": [
        {
          "output_type": "stream",
          "name": "stderr",
          "text": [
            "/usr/local/lib/python3.7/dist-packages/ipykernel_launcher.py:2: DataConversionWarning: A column-vector y was passed when a 1d array was expected. Please change the shape of y to (n_samples,), for example using ravel().\n",
            "  \n",
            "/usr/local/lib/python3.7/dist-packages/ipykernel_launcher.py:2: DataConversionWarning: A column-vector y was passed when a 1d array was expected. Please change the shape of y to (n_samples,), for example using ravel().\n",
            "  \n"
          ]
        },
        {
          "output_type": "stream",
          "name": "stdout",
          "text": [
            "Random Forest\n",
            "\n",
            "\n",
            "Train_accuracy           0.94\n",
            "Mean Square Error        0.132\n",
            "Root Mean Square Error   0.246\n",
            "_ _ _ _ _ _ _ _ _ _ _ _ _ _ _ \n",
            "\n",
            "\n",
            "Test_accuracy            0.957\n",
            "Mean Square Error        0.117\n",
            "Root Mean Square Error   0.206\n"
          ]
        }
      ]
    },
    {
      "cell_type": "markdown",
      "source": [
        "#SVR"
      ],
      "metadata": {
        "id": "RmPV2ktu4fTv"
      }
    },
    {
      "cell_type": "code",
      "source": [
        "from sklearn.svm import SVR"
      ],
      "metadata": {
        "id": "H6rXRi8y3N32"
      },
      "execution_count": null,
      "outputs": []
    },
    {
      "cell_type": "code",
      "source": [
        "def svr(X,y):\n",
        "      regressor_svr_linear = SVR(kernel = 'linear')\n",
        "      regressor_svr_linear.fit(X, y.ravel())\n",
        "      standard_svm_linear = regressor_svr_linear.score(X, y)\n",
        "      previsoes = regressor_svr_linear.predict(X)\n",
        "      y_test_inverse = scaler.inverse_transform(y)\n",
        "      previsoes_inverse = scaler.inverse_transform(previsoes.reshape(-1,1))\n",
        "      mse_svr_linear_standard  = mean_absolute_error(y_test_inverse, previsoes_inverse)\n",
        "      rmse_svm_linear_standard = np.sqrt(mean_squared_error(y_test_inverse, previsoes_inverse))\n",
        "      return(standard_svm_linear, mse_svr_linear_standard, rmse_svm_linear_standard)"
      ],
      "metadata": {
        "id": "Wj-o4Bst3rZ3"
      },
      "execution_count": null,
      "outputs": []
    },
    {
      "cell_type": "code",
      "source": [
        "Modeltrain4 = svr(X_train,y_train)\n",
        "Modeltest4  = svr(X_test,y_test)\n",
        "print(\"SVR\")\n",
        "print(\"\\n\")\n",
        "print(\"Train_accuracy           \"+str(round(Modeltrain4[0],3)))\n",
        "print('_ '*15)\n",
        "print(\"\\n\")\n",
        "print(\"Test_accuracy            \"+str(round(Modeltest4[0],3)))"
      ],
      "metadata": {
        "colab": {
          "base_uri": "https://localhost:8080/"
        },
        "id": "dGC9MCY44TwA",
        "outputId": "2db0ed3a-d792-4b4f-d5fc-460eccb0bdb1"
      },
      "execution_count": null,
      "outputs": [
        {
          "output_type": "stream",
          "name": "stdout",
          "text": [
            "SVR\n",
            "\n",
            "\n",
            "Train_accuracy           0.538\n",
            "_ _ _ _ _ _ _ _ _ _ _ _ _ _ _ \n",
            "\n",
            "\n",
            "Test_accuracy            0.559\n"
          ]
        }
      ]
    },
    {
      "cell_type": "markdown",
      "source": [
        "Random forest is the best model among all the models with 95% accuracy"
      ],
      "metadata": {
        "id": "ypejN3kEG4Kk"
      }
    },
    {
      "cell_type": "code",
      "source": [],
      "metadata": {
        "id": "mthZBd3p4tL5"
      },
      "execution_count": null,
      "outputs": []
    }
  ],
  "metadata": {
    "colab": {
      "provenance": [],
      "authorship_tag": "ABX9TyM75MWifZQxsdsYXzcSnOuL",
      "include_colab_link": true
    },
    "kernelspec": {
      "display_name": "Python 3",
      "name": "python3"
    },
    "language_info": {
      "name": "python"
    }
  },
  "nbformat": 4,
  "nbformat_minor": 0
}